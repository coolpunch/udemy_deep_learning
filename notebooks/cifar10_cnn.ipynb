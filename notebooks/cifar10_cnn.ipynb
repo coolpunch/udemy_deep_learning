{
  "nbformat": 4,
  "nbformat_minor": 0,
  "metadata": {
    "colab": {
      "name": "cifar10_cnn.ipynb",
      "provenance": [],
      "collapsed_sections": [],
      "authorship_tag": "ABX9TyOYh968tgT/gU+/V1NsGh8h",
      "include_colab_link": true
    },
    "kernelspec": {
      "name": "python3",
      "display_name": "Python 3"
    },
    "language_info": {
      "name": "python"
    }
  },
  "cells": [
    {
      "cell_type": "markdown",
      "metadata": {
        "id": "view-in-github",
        "colab_type": "text"
      },
      "source": [
        "<a href=\"https://colab.research.google.com/github/coolpunch/udemy_deep_learning/blob/master/cifar10_cnn.ipynb\" target=\"_parent\"><img src=\"https://colab.research.google.com/assets/colab-badge.svg\" alt=\"Open In Colab\"/></a>"
      ]
    },
    {
      "cell_type": "code",
      "metadata": {
        "id": "UyJ7Ow3rXled"
      },
      "source": [
        "import tensorflow as tf\n",
        "import numpy as np\n",
        "from sklearn.metrics import confusion_matrix\n",
        "import matplotlib.pyplot as plt\n",
        "import PIL"
      ],
      "execution_count": 1,
      "outputs": []
    },
    {
      "cell_type": "code",
      "metadata": {
        "colab": {
          "base_uri": "https://localhost:8080/"
        },
        "id": "2Aobcmd-YXlO",
        "outputId": "2999918a-3dbb-42ef-a36f-f2edc8db709a"
      },
      "source": [
        "print(tf.__version__)"
      ],
      "execution_count": 2,
      "outputs": [
        {
          "output_type": "stream",
          "text": [
            "2.4.1\n"
          ],
          "name": "stdout"
        }
      ]
    },
    {
      "cell_type": "code",
      "metadata": {
        "id": "CvtGBHghXtnX",
        "colab": {
          "base_uri": "https://localhost:8080/"
        },
        "outputId": "7f05a6bd-6381-4001-e88a-a6586f0018df"
      },
      "source": [
        "(x_train, y_train), (x_test, y_test) = tf.keras.datasets.cifar10.load_data()"
      ],
      "execution_count": 4,
      "outputs": [
        {
          "output_type": "stream",
          "text": [
            "Downloading data from https://www.cs.toronto.edu/~kriz/cifar-10-python.tar.gz\n",
            "170500096/170498071 [==============================] - 4s 0us/step\n"
          ],
          "name": "stdout"
        }
      ]
    },
    {
      "cell_type": "code",
      "metadata": {
        "colab": {
          "base_uri": "https://localhost:8080/"
        },
        "id": "igeea1cHYKj2",
        "outputId": "9e681344-5156-44cf-b8da-ec90b525f0a8"
      },
      "source": [
        "print(x_train.shape)\n",
        "print(x_test.shape)\n",
        "print(y_train.shape)\n",
        "print(y_test.shape)"
      ],
      "execution_count": 5,
      "outputs": [
        {
          "output_type": "stream",
          "text": [
            "(50000, 32, 32, 3)\n",
            "(10000, 32, 32, 3)\n",
            "(50000, 1)\n",
            "(10000, 1)\n"
          ],
          "name": "stdout"
        }
      ]
    },
    {
      "cell_type": "code",
      "metadata": {
        "id": "uNyWYjFSYSk3"
      },
      "source": [
        "# scaling \n",
        "x_tr = x_train/255\n",
        "x_te = x_test/255\n",
        "# flattening arrays to make sure it suits cnn\n",
        "y_tr = y_train.flatten()\n",
        "y_te = y_test.flatten()"
      ],
      "execution_count": 25,
      "outputs": []
    },
    {
      "cell_type": "code",
      "metadata": {
        "colab": {
          "base_uri": "https://localhost:8080/"
        },
        "id": "lLOo12WRacX0",
        "outputId": "a2e13647-fb09-44b0-82a5-543313d17ad5"
      },
      "source": [
        "print(x_tr.shape)\n",
        "print(x_te.shape)\n",
        "print(y_tr.shape)\n",
        "print(y_te.shape)"
      ],
      "execution_count": 26,
      "outputs": [
        {
          "output_type": "stream",
          "text": [
            "(50000, 32, 32, 3)\n",
            "(10000, 32, 32, 3)\n",
            "(50000,)\n",
            "(10000,)\n"
          ],
          "name": "stdout"
        }
      ]
    },
    {
      "cell_type": "code",
      "metadata": {
        "colab": {
          "base_uri": "https://localhost:8080/"
        },
        "id": "ZmUfqM9Nbqpf",
        "outputId": "dbb9562b-6fb8-4d63-a6be-a285f28f0703"
      },
      "source": [
        "# adding cnn layers\n",
        "\n",
        "# input \n",
        "i = tf.keras.layers.Input((32,32,3)) \n",
        "i.shape"
      ],
      "execution_count": 38,
      "outputs": [
        {
          "output_type": "execute_result",
          "data": {
            "text/plain": [
              "TensorShape([None, 32, 32, 3])"
            ]
          },
          "metadata": {
            "tags": []
          },
          "execution_count": 38
        }
      ]
    },
    {
      "cell_type": "code",
      "metadata": {
        "colab": {
          "base_uri": "https://localhost:8080/"
        },
        "id": "E1aFwgK4fLMH",
        "outputId": "054543b9-72f6-4fb1-cac1-de57bf672528"
      },
      "source": [
        "# adding first cnn layer\n",
        "x = tf.keras.layers.Conv2D(filters=64, kernel_size=(3,3), strides=2, activation='relu')(i)\n",
        "x.shape"
      ],
      "execution_count": 39,
      "outputs": [
        {
          "output_type": "execute_result",
          "data": {
            "text/plain": [
              "TensorShape([None, 15, 15, 64])"
            ]
          },
          "metadata": {
            "tags": []
          },
          "execution_count": 39
        }
      ]
    },
    {
      "cell_type": "code",
      "metadata": {
        "colab": {
          "base_uri": "https://localhost:8080/"
        },
        "id": "oPhQM479ld0X",
        "outputId": "1c178387-45ea-476c-bf78-7f0dbd5e3881"
      },
      "source": [
        "# adding second cnn layer\n",
        "x = tf.keras.layers.Conv2D(filters=128, kernel_size=(3, 3), strides=2, activation='relu')(x)\n",
        "x.shape"
      ],
      "execution_count": 40,
      "outputs": [
        {
          "output_type": "execute_result",
          "data": {
            "text/plain": [
              "TensorShape([None, 7, 7, 128])"
            ]
          },
          "metadata": {
            "tags": []
          },
          "execution_count": 40
        }
      ]
    },
    {
      "cell_type": "code",
      "metadata": {
        "colab": {
          "base_uri": "https://localhost:8080/"
        },
        "id": "hMw9GJxR-W3u",
        "outputId": "2d663e33-eb63-49d9-e95b-5a2330de2829"
      },
      "source": [
        "# adding third cnn layer \n",
        "x = tf.keras.layers.Conv2D(filters=256, kernel_size=(3, 3), strides=2, activation='relu')(x)\n",
        "x.shape"
      ],
      "execution_count": 41,
      "outputs": [
        {
          "output_type": "execute_result",
          "data": {
            "text/plain": [
              "TensorShape([None, 3, 3, 256])"
            ]
          },
          "metadata": {
            "tags": []
          },
          "execution_count": 41
        }
      ]
    },
    {
      "cell_type": "code",
      "metadata": {
        "colab": {
          "base_uri": "https://localhost:8080/"
        },
        "id": "B1W_XyMN-jA2",
        "outputId": "b72fb0b9-26c2-4d7b-feaf-f6eac9f28a93"
      },
      "source": [
        "# flattening the result to prepare it for dense layer\n",
        "x = tf.keras.layers.Flatten() (x)\n",
        "x.shape"
      ],
      "execution_count": 42,
      "outputs": [
        {
          "output_type": "execute_result",
          "data": {
            "text/plain": [
              "TensorShape([None, 2304])"
            ]
          },
          "metadata": {
            "tags": []
          },
          "execution_count": 42
        }
      ]
    },
    {
      "cell_type": "code",
      "metadata": {
        "colab": {
          "base_uri": "https://localhost:8080/"
        },
        "id": "VBL-SKME_eqX",
        "outputId": "7738e92f-2936-443f-df25-180486ae5f67"
      },
      "source": [
        "# dropping out some of the nodes\n",
        "x = tf.keras.layers.Dropout(0.2) (x)\n",
        "x.shape"
      ],
      "execution_count": 43,
      "outputs": [
        {
          "output_type": "execute_result",
          "data": {
            "text/plain": [
              "TensorShape([None, 2304])"
            ]
          },
          "metadata": {
            "tags": []
          },
          "execution_count": 43
        }
      ]
    },
    {
      "cell_type": "code",
      "metadata": {
        "colab": {
          "base_uri": "https://localhost:8080/"
        },
        "id": "Vz8Pwlko_fWS",
        "outputId": "e83b574a-73b0-47a5-b1df-9cb0a698c9ce"
      },
      "source": [
        "# adding first dense layer\n",
        "x = tf.keras.layers.Dense(1024, activation='relu', ) (x)\n",
        "x.shape"
      ],
      "execution_count": 44,
      "outputs": [
        {
          "output_type": "execute_result",
          "data": {
            "text/plain": [
              "TensorShape([None, 1024])"
            ]
          },
          "metadata": {
            "tags": []
          },
          "execution_count": 44
        }
      ]
    },
    {
      "cell_type": "code",
      "metadata": {
        "colab": {
          "base_uri": "https://localhost:8080/"
        },
        "id": "92XtAOi2E0qj",
        "outputId": "1284718a-ce50-4e94-d6d3-4ffbc406f83c"
      },
      "source": [
        "# adding second dropout layer\n",
        "x = tf.keras.layers.Dropout(0.2) (x)\n",
        "x.shape"
      ],
      "execution_count": 45,
      "outputs": [
        {
          "output_type": "execute_result",
          "data": {
            "text/plain": [
              "TensorShape([None, 1024])"
            ]
          },
          "metadata": {
            "tags": []
          },
          "execution_count": 45
        }
      ]
    },
    {
      "cell_type": "code",
      "metadata": {
        "colab": {
          "base_uri": "https://localhost:8080/"
        },
        "id": "HkoZzf-Z_fY7",
        "outputId": "81a3827b-d425-4f29-ae2b-2e2ea7439c5e"
      },
      "source": [
        "# adding second dense layer\n",
        "x = tf.keras.layers.Dense(512, activation= 'relu') (x)\n",
        "x.shape"
      ],
      "execution_count": 46,
      "outputs": [
        {
          "output_type": "execute_result",
          "data": {
            "text/plain": [
              "TensorShape([None, 512])"
            ]
          },
          "metadata": {
            "tags": []
          },
          "execution_count": 46
        }
      ]
    },
    {
      "cell_type": "code",
      "metadata": {
        "colab": {
          "base_uri": "https://localhost:8080/"
        },
        "id": "hvS8Ph7u_fck",
        "outputId": "f52f876b-489b-4917-ffa3-db4a2f4f63a4"
      },
      "source": [
        "# adding final layer the number of nodes in the final layer must be equal to the number of \n",
        "# unique classes of outputs which in this case will be 10 \n",
        "K = len(set(y_tr))\n",
        "\n",
        "x = tf.keras.layers.Dense(K, activation='softmax') (x)\n",
        "x.shape"
      ],
      "execution_count": 47,
      "outputs": [
        {
          "output_type": "execute_result",
          "data": {
            "text/plain": [
              "TensorShape([None, 10])"
            ]
          },
          "metadata": {
            "tags": []
          },
          "execution_count": 47
        }
      ]
    },
    {
      "cell_type": "code",
      "metadata": {
        "id": "i2OtXlDz_es0"
      },
      "source": [
        "model = tf.keras.Model(i,x)"
      ],
      "execution_count": 48,
      "outputs": []
    },
    {
      "cell_type": "code",
      "metadata": {
        "id": "D0GOMjPu_evG"
      },
      "source": [
        "# compiling model\n",
        "model.compile(optimizer='adam', loss='sparse_categorical_crossentropy', metrics=['accuracy'])"
      ],
      "execution_count": 49,
      "outputs": []
    },
    {
      "cell_type": "code",
      "metadata": {
        "colab": {
          "base_uri": "https://localhost:8080/"
        },
        "id": "LRu5JxN7_exe",
        "outputId": "c8803bd2-2690-4113-b161-e2eb4a68a6c2"
      },
      "source": [
        "history = model.fit(x_tr, y_tr, validation_data=(x_te,y_te), epochs=10)"
      ],
      "execution_count": 50,
      "outputs": [
        {
          "output_type": "stream",
          "text": [
            "Epoch 1/10\n",
            "1563/1563 [==============================] - 149s 95ms/step - loss: 1.7057 - accuracy: 0.3608 - val_loss: 1.1929 - val_accuracy: 0.5687\n",
            "Epoch 2/10\n",
            "1563/1563 [==============================] - 146s 94ms/step - loss: 1.1552 - accuracy: 0.5871 - val_loss: 1.0756 - val_accuracy: 0.6222\n",
            "Epoch 3/10\n",
            "1563/1563 [==============================] - 146s 94ms/step - loss: 0.9438 - accuracy: 0.6648 - val_loss: 0.9763 - val_accuracy: 0.6557\n",
            "Epoch 4/10\n",
            "1563/1563 [==============================] - 147s 94ms/step - loss: 0.7929 - accuracy: 0.7181 - val_loss: 0.8881 - val_accuracy: 0.6886\n",
            "Epoch 5/10\n",
            "1563/1563 [==============================] - 146s 94ms/step - loss: 0.6726 - accuracy: 0.7633 - val_loss: 0.9031 - val_accuracy: 0.6918\n",
            "Epoch 6/10\n",
            "1563/1563 [==============================] - 146s 93ms/step - loss: 0.5682 - accuracy: 0.7963 - val_loss: 0.9018 - val_accuracy: 0.6978\n",
            "Epoch 7/10\n",
            "1563/1563 [==============================] - 148s 95ms/step - loss: 0.4797 - accuracy: 0.8283 - val_loss: 0.9026 - val_accuracy: 0.7055\n",
            "Epoch 8/10\n",
            "1563/1563 [==============================] - 148s 94ms/step - loss: 0.4107 - accuracy: 0.8541 - val_loss: 0.9570 - val_accuracy: 0.7025\n",
            "Epoch 9/10\n",
            "1563/1563 [==============================] - 148s 95ms/step - loss: 0.3438 - accuracy: 0.8796 - val_loss: 0.9962 - val_accuracy: 0.7042\n",
            "Epoch 10/10\n",
            "1563/1563 [==============================] - 146s 94ms/step - loss: 0.3165 - accuracy: 0.8903 - val_loss: 1.0425 - val_accuracy: 0.7092\n"
          ],
          "name": "stdout"
        }
      ]
    },
    {
      "cell_type": "code",
      "metadata": {
        "id": "giLXvrzj-x_G"
      },
      "source": [
        "# clearning session\n",
        "# tf.keras.backend.clear_session()"
      ],
      "execution_count": 37,
      "outputs": []
    },
    {
      "cell_type": "code",
      "metadata": {
        "id": "-NRjf_o5_Yfx"
      },
      "source": [
        "train_acc = history.history['accuracy']\n",
        "val_acc = history.history['val_accuracy']\n",
        "train_loss = history.history['loss']\n",
        "val_loss = history.history['val_loss']"
      ],
      "execution_count": 51,
      "outputs": []
    },
    {
      "cell_type": "code",
      "metadata": {
        "colab": {
          "base_uri": "https://localhost:8080/",
          "height": 638
        },
        "id": "ZxfC6EcFV4Ly",
        "outputId": "1cc56737-0961-48f7-fe32-5a275ca05a72"
      },
      "source": [
        "plt.figure(figsize=(10,10))\n",
        "plt.grid()\n",
        "plt.plot(train_acc, color='g', label='Training Accuracy',marker='o')\n",
        "for i in range(len(train_acc)): plt.text(i,train_acc[i],round(train_acc[i], 3))\n",
        "plt.plot(val_acc, color='b', label='Validation Accuracy', marker='x')\n",
        "for i in range(len(val_acc)): plt.text(i,val_acc[i],round(val_acc[i], 3))\n",
        "plt.xlabel('Epochs')\n",
        "plt.ylabel('Accuracy')\n",
        "plt.title('Epochs vs accuracy plot')\n",
        "plt.legend()"
      ],
      "execution_count": 52,
      "outputs": [
        {
          "output_type": "execute_result",
          "data": {
            "text/plain": [
              "<matplotlib.legend.Legend at 0x7f5d7b78ebd0>"
            ]
          },
          "metadata": {
            "tags": []
          },
          "execution_count": 52
        },
        {
          "output_type": "display_data",
          "data": {
            "image/png": "[encoded data removed]",
            "text/plain": [
              "<Figure size 720x720 with 1 Axes>"
            ]
          },
          "metadata": {
            "tags": [],
            "needs_background": "light"
          }
        }
      ]
    },
    {
      "cell_type": "code",
      "metadata": {
        "colab": {
          "base_uri": "https://localhost:8080/",
          "height": 638
        },
        "id": "JG07FE9AV5re",
        "outputId": "5397a245-9be8-43b5-db0e-3fdb68515efd"
      },
      "source": [
        "plt.figure(figsize=(10,10))\n",
        "plt.grid()\n",
        "plt.plot(train_loss, color='g', label='Training Loss', marker='o')\n",
        "for i in range(len(train_loss)): plt.text(i,train_loss[i],round(train_loss[i], 3))\n",
        "plt.plot(val_loss, color='b', label='Validation Loss', marker='x')\n",
        "for i in range(len(val_loss)): plt.text(i,val_loss[i],round(val_loss[i], 3))\n",
        "plt.xlabel('Epochs')\n",
        "plt.ylabel('Loss')\n",
        "plt.title('Epochs vs Loss Plot')\n",
        "plt.legend()\n"
      ],
      "execution_count": 53,
      "outputs": [
        {
          "output_type": "execute_result",
          "data": {
            "text/plain": [
              "<matplotlib.legend.Legend at 0x7f5d7a6d83d0>"
            ]
          },
          "metadata": {
            "tags": []
          },
          "execution_count": 53
        },
        {
          "output_type": "display_data",
          "data": {
            "image/png": "[encoded data removed]",
            "text/plain": [
              "<Figure size 720x720 with 1 Axes>"
            ]
          },
          "metadata": {
            "tags": [],
            "needs_background": "light"
          }
        }
      ]
    },
    {
      "cell_type": "code",
      "metadata": {
        "id": "tD5sV-moGHrH"
      },
      "source": [
        "# let us create a new model with data agumentation\n",
        "\n",
        "# batch size\n",
        "b_size = x_tr.shape[0]/10\n",
        "\n",
        "# creating image data generator\n",
        "im_data_generator = tf.keras.preprocessing.image.ImageDataGenerator(height_shift_range=0.2, \n",
        "                                                                    width_shift_range=0.2,\n",
        "                                                                    horizontal_flip=True\n",
        "                                                                    )\n",
        "\n",
        "# creating training data generator\n",
        "im_train_generator = im_data_generator.flow(x_tr, y_tr, b_size)\n"
      ],
      "execution_count": 54,
      "outputs": []
    },
    {
      "cell_type": "code",
      "metadata": {
        "colab": {
          "base_uri": "https://localhost:8080/",
          "height": 411
        },
        "id": "QANoiITsJeTN",
        "outputId": "fbf74b9d-26e0-4eb0-f764-1cdec0c9853e"
      },
      "source": [
        "# number of epochs for 1 batch \n",
        "epochs_per_batch = 5.0\n",
        "history_agument = model.fit_generator(im_train_generator, steps_per_epoch= epochs_per_batch)"
      ],
      "execution_count": 59,
      "outputs": [
        {
          "output_type": "stream",
          "text": [
            "/usr/local/lib/python3.7/dist-packages/tensorflow/python/keras/engine/training.py:1844: UserWarning: `Model.fit_generator` is deprecated and will be removed in a future version. Please use `Model.fit`, which supports generators.\n",
            "  warnings.warn('`Model.fit_generator` is deprecated and '\n"
          ],
          "name": "stderr"
        },
        {
          "output_type": "error",
          "ename": "TypeError",
          "evalue": "ignored",
          "traceback": [
            "\u001b[0;31m---------------------------------------------------------------------------\u001b[0m",
            "\u001b[0;31mTypeError\u001b[0m                                 Traceback (most recent call last)",
            "\u001b[0;32m<ipython-input-59-e881b8ca65fb>\u001b[0m in \u001b[0;36m<module>\u001b[0;34m()\u001b[0m\n\u001b[1;32m      1\u001b[0m \u001b[0;31m# number of epochs for 1 batch\u001b[0m\u001b[0;34m\u001b[0m\u001b[0;34m\u001b[0m\u001b[0;34m\u001b[0m\u001b[0m\n\u001b[1;32m      2\u001b[0m \u001b[0mepochs_per_batch\u001b[0m \u001b[0;34m=\u001b[0m \u001b[0;36m5.0\u001b[0m\u001b[0;34m\u001b[0m\u001b[0;34m\u001b[0m\u001b[0m\n\u001b[0;32m----> 3\u001b[0;31m \u001b[0mhistory_agument\u001b[0m \u001b[0;34m=\u001b[0m \u001b[0mmodel\u001b[0m\u001b[0;34m.\u001b[0m\u001b[0mfit_generator\u001b[0m\u001b[0;34m(\u001b[0m\u001b[0mim_train_generator\u001b[0m\u001b[0;34m,\u001b[0m \u001b[0msteps_per_epoch\u001b[0m\u001b[0;34m=\u001b[0m \u001b[0mepochs_per_batch\u001b[0m\u001b[0;34m)\u001b[0m\u001b[0;34m\u001b[0m\u001b[0;34m\u001b[0m\u001b[0m\n\u001b[0m",
            "\u001b[0;32m/usr/local/lib/python3.7/dist-packages/tensorflow/python/keras/engine/training.py\u001b[0m in \u001b[0;36mfit_generator\u001b[0;34m(self, generator, steps_per_epoch, epochs, verbose, callbacks, validation_data, validation_steps, validation_freq, class_weight, max_queue_size, workers, use_multiprocessing, shuffle, initial_epoch)\u001b[0m\n\u001b[1;32m   1859\u001b[0m         \u001b[0muse_multiprocessing\u001b[0m\u001b[0;34m=\u001b[0m\u001b[0muse_multiprocessing\u001b[0m\u001b[0;34m,\u001b[0m\u001b[0;34m\u001b[0m\u001b[0;34m\u001b[0m\u001b[0m\n\u001b[1;32m   1860\u001b[0m         \u001b[0mshuffle\u001b[0m\u001b[0;34m=\u001b[0m\u001b[0mshuffle\u001b[0m\u001b[0;34m,\u001b[0m\u001b[0;34m\u001b[0m\u001b[0;34m\u001b[0m\u001b[0m\n\u001b[0;32m-> 1861\u001b[0;31m         initial_epoch=initial_epoch)\n\u001b[0m\u001b[1;32m   1862\u001b[0m \u001b[0;34m\u001b[0m\u001b[0m\n\u001b[1;32m   1863\u001b[0m   def evaluate_generator(self,\n",
            "\u001b[0;32m/usr/local/lib/python3.7/dist-packages/tensorflow/python/keras/engine/training.py\u001b[0m in \u001b[0;36mfit\u001b[0;34m(self, x, y, batch_size, epochs, verbose, callbacks, validation_split, validation_data, shuffle, class_weight, sample_weight, initial_epoch, steps_per_epoch, validation_steps, validation_batch_size, validation_freq, max_queue_size, workers, use_multiprocessing)\u001b[0m\n\u001b[1;32m   1062\u001b[0m           \u001b[0muse_multiprocessing\u001b[0m\u001b[0;34m=\u001b[0m\u001b[0muse_multiprocessing\u001b[0m\u001b[0;34m,\u001b[0m\u001b[0;34m\u001b[0m\u001b[0;34m\u001b[0m\u001b[0m\n\u001b[1;32m   1063\u001b[0m           \u001b[0mmodel\u001b[0m\u001b[0;34m=\u001b[0m\u001b[0mself\u001b[0m\u001b[0;34m,\u001b[0m\u001b[0;34m\u001b[0m\u001b[0;34m\u001b[0m\u001b[0m\n\u001b[0;32m-> 1064\u001b[0;31m           steps_per_execution=self._steps_per_execution)\n\u001b[0m\u001b[1;32m   1065\u001b[0m \u001b[0;34m\u001b[0m\u001b[0m\n\u001b[1;32m   1066\u001b[0m       \u001b[0;31m# Container that configures and calls `tf.keras.Callback`s.\u001b[0m\u001b[0;34m\u001b[0m\u001b[0;34m\u001b[0m\u001b[0;34m\u001b[0m\u001b[0m\n",
            "\u001b[0;32m/usr/local/lib/python3.7/dist-packages/tensorflow/python/keras/engine/data_adapter.py\u001b[0m in \u001b[0;36m__init__\u001b[0;34m(self, x, y, sample_weight, batch_size, steps_per_epoch, initial_epoch, epochs, shuffle, class_weight, max_queue_size, workers, use_multiprocessing, model, steps_per_execution)\u001b[0m\n\u001b[1;32m   1110\u001b[0m         \u001b[0muse_multiprocessing\u001b[0m\u001b[0;34m=\u001b[0m\u001b[0muse_multiprocessing\u001b[0m\u001b[0;34m,\u001b[0m\u001b[0;34m\u001b[0m\u001b[0;34m\u001b[0m\u001b[0m\n\u001b[1;32m   1111\u001b[0m         \u001b[0mdistribution_strategy\u001b[0m\u001b[0;34m=\u001b[0m\u001b[0mds_context\u001b[0m\u001b[0;34m.\u001b[0m\u001b[0mget_strategy\u001b[0m\u001b[0;34m(\u001b[0m\u001b[0;34m)\u001b[0m\u001b[0;34m,\u001b[0m\u001b[0;34m\u001b[0m\u001b[0;34m\u001b[0m\u001b[0m\n\u001b[0;32m-> 1112\u001b[0;31m         model=model)\n\u001b[0m\u001b[1;32m   1113\u001b[0m \u001b[0;34m\u001b[0m\u001b[0m\n\u001b[1;32m   1114\u001b[0m     \u001b[0mstrategy\u001b[0m \u001b[0;34m=\u001b[0m \u001b[0mds_context\u001b[0m\u001b[0;34m.\u001b[0m\u001b[0mget_strategy\u001b[0m\u001b[0;34m(\u001b[0m\u001b[0;34m)\u001b[0m\u001b[0;34m\u001b[0m\u001b[0;34m\u001b[0m\u001b[0m\n",
            "\u001b[0;32m/usr/local/lib/python3.7/dist-packages/tensorflow/python/keras/engine/data_adapter.py\u001b[0m in \u001b[0;36m__init__\u001b[0;34m(self, x, y, sample_weights, shuffle, workers, use_multiprocessing, max_queue_size, model, **kwargs)\u001b[0m\n\u001b[1;32m    896\u001b[0m                        \"`keras.utils.Sequence` as input.\")\n\u001b[1;32m    897\u001b[0m \u001b[0;34m\u001b[0m\u001b[0m\n\u001b[0;32m--> 898\u001b[0;31m     \u001b[0mself\u001b[0m\u001b[0;34m.\u001b[0m\u001b[0m_size\u001b[0m \u001b[0;34m=\u001b[0m \u001b[0mlen\u001b[0m\u001b[0;34m(\u001b[0m\u001b[0mx\u001b[0m\u001b[0;34m)\u001b[0m\u001b[0;34m\u001b[0m\u001b[0;34m\u001b[0m\u001b[0m\n\u001b[0m\u001b[1;32m    899\u001b[0m     \u001b[0mself\u001b[0m\u001b[0;34m.\u001b[0m\u001b[0m_shuffle_sequence\u001b[0m \u001b[0;34m=\u001b[0m \u001b[0mshuffle\u001b[0m\u001b[0;34m\u001b[0m\u001b[0;34m\u001b[0m\u001b[0m\n\u001b[1;32m    900\u001b[0m     \u001b[0mself\u001b[0m\u001b[0;34m.\u001b[0m\u001b[0m_keras_sequence\u001b[0m \u001b[0;34m=\u001b[0m \u001b[0mx\u001b[0m\u001b[0;34m\u001b[0m\u001b[0;34m\u001b[0m\u001b[0m\n",
            "\u001b[0;31mTypeError\u001b[0m: 'float' object cannot be interpreted as an integer"
          ]
        }
      ]
    },
    {
      "cell_type": "code",
      "metadata": {
        "colab": {
          "base_uri": "https://localhost:8080/"
        },
        "id": "V3nuXJZ0JfX1",
        "outputId": "67935860-bf44-4caa-e610-2f8ac6bafb6e"
      },
      "source": [
        "x_tr.shape[0]"
      ],
      "execution_count": null,
      "outputs": [
        {
          "output_type": "execute_result",
          "data": {
            "text/plain": [
              "50000"
            ]
          },
          "metadata": {
            "tags": []
          },
          "execution_count": 23
        }
      ]
    },
    {
      "cell_type": "code",
      "metadata": {
        "colab": {
          "base_uri": "https://localhost:8080/"
        },
        "id": "4KRmwzZ2J-XJ",
        "outputId": "280a16a0-ed27-4b97-b3f0-31e31b3a7370"
      },
      "source": [
        "# let us create a model with normalization and adding pooling layers to the network.\n",
        "# model 1\n",
        "i_1 = tf.keras.layers.Input(shape=(32, 32, 3))\n",
        "i_1.shape"
      ],
      "execution_count": 62,
      "outputs": [
        {
          "output_type": "execute_result",
          "data": {
            "text/plain": [
              "TensorShape([None, 32, 32, 3])"
            ]
          },
          "metadata": {
            "tags": []
          },
          "execution_count": 62
        }
      ]
    },
    {
      "cell_type": "code",
      "metadata": {
        "colab": {
          "base_uri": "https://localhost:8080/"
        },
        "id": "wjiqxodrDBjD",
        "outputId": "c9f82ca0-9cdc-4041-d766-d1a22a6f91c7"
      },
      "source": [
        "# model 1 \n",
        "# adding first convolution layer\n",
        "x_1 = tf.keras.layers.Conv2D(filters=32, kernel_size=(3, 3), activation='relu', padding='same') (i_1)\n",
        "x_1.shape"
      ],
      "execution_count": 63,
      "outputs": [
        {
          "output_type": "execute_result",
          "data": {
            "text/plain": [
              "TensorShape([None, 32, 32, 32])"
            ]
          },
          "metadata": {
            "tags": []
          },
          "execution_count": 63
        }
      ]
    },
    {
      "cell_type": "code",
      "metadata": {
        "colab": {
          "base_uri": "https://localhost:8080/"
        },
        "id": "NW_sfz9XD67V",
        "outputId": "61cd70f8-9e67-49ae-802d-04159326466c"
      },
      "source": [
        "# model_1\n",
        "# adding batch normalization layer\n",
        "x_1 = tf.keras.layers.BatchNormalization() (x_1)\n",
        "x_1.shape"
      ],
      "execution_count": 64,
      "outputs": [
        {
          "output_type": "execute_result",
          "data": {
            "text/plain": [
              "TensorShape([None, 32, 32, 32])"
            ]
          },
          "metadata": {
            "tags": []
          },
          "execution_count": 64
        }
      ]
    },
    {
      "cell_type": "code",
      "metadata": {
        "colab": {
          "base_uri": "https://localhost:8080/"
        },
        "id": "uLQNwO07EHqZ",
        "outputId": "98101042-507d-47f5-a95c-b3710c324282"
      },
      "source": [
        "# model_1\n",
        "# adding another convolution layer\n",
        "x_1 = tf.keras.layers.Conv2D(filters=32, kernel_size=(3, 3), activation='relu', padding='same') (x_1)\n",
        "x_1.shape"
      ],
      "execution_count": 65,
      "outputs": [
        {
          "output_type": "execute_result",
          "data": {
            "text/plain": [
              "TensorShape([None, 32, 32, 32])"
            ]
          },
          "metadata": {
            "tags": []
          },
          "execution_count": 65
        }
      ]
    },
    {
      "cell_type": "code",
      "metadata": {
        "colab": {
          "base_uri": "https://localhost:8080/"
        },
        "id": "KPnLNEseEZUL",
        "outputId": "35c69f8e-a4ff-49bb-eef2-6246e18a0195"
      },
      "source": [
        "# model_1\n",
        "# adding batch normalization\n",
        "x_1 = tf.keras.layers.BatchNormalization() (x_1)\n",
        "x_1.shape"
      ],
      "execution_count": 66,
      "outputs": [
        {
          "output_type": "execute_result",
          "data": {
            "text/plain": [
              "TensorShape([None, 32, 32, 32])"
            ]
          },
          "metadata": {
            "tags": []
          },
          "execution_count": 66
        }
      ]
    },
    {
      "cell_type": "code",
      "metadata": {
        "colab": {
          "base_uri": "https://localhost:8080/"
        },
        "id": "LEK6S6LuE-e1",
        "outputId": "4c263e8a-f44d-45a0-f5f0-b04cfbb1e85a"
      },
      "source": [
        "# model_1\n",
        "# adding max pooling layer\n",
        "x_1 = tf.keras.layers.MaxPooling2D(pool_size=(2, 2)) (x_1)\n",
        "x_1.shape"
      ],
      "execution_count": 67,
      "outputs": [
        {
          "output_type": "execute_result",
          "data": {
            "text/plain": [
              "TensorShape([None, 16, 16, 32])"
            ]
          },
          "metadata": {
            "tags": []
          },
          "execution_count": 67
        }
      ]
    },
    {
      "cell_type": "code",
      "metadata": {
        "colab": {
          "base_uri": "https://localhost:8080/"
        },
        "id": "LVhWaZrrFvZk",
        "outputId": "9bbd7eca-2c96-4a97-cd17-9fc3c4eae57f"
      },
      "source": [
        "# model_1\n",
        "x_1 = tf.keras.layers.Conv2D(filters=64, kernel_size=(3, 3), activation='relu', padding='same') (x_1)\n",
        "x_1.shape\n"
      ],
      "execution_count": 68,
      "outputs": [
        {
          "output_type": "execute_result",
          "data": {
            "text/plain": [
              "TensorShape([None, 16, 16, 64])"
            ]
          },
          "metadata": {
            "tags": []
          },
          "execution_count": 68
        }
      ]
    },
    {
      "cell_type": "code",
      "metadata": {
        "colab": {
          "base_uri": "https://localhost:8080/"
        },
        "id": "iPCLSyE2FvV7",
        "outputId": "1088d666-f9df-448f-970f-a93e38f4430b"
      },
      "source": [
        "# model_1\n",
        "# adding batch normalization\n",
        "x_1 = tf.keras.layers.BatchNormalization() (x_1)\n",
        "x_1.shape"
      ],
      "execution_count": 69,
      "outputs": [
        {
          "output_type": "execute_result",
          "data": {
            "text/plain": [
              "TensorShape([None, 16, 16, 64])"
            ]
          },
          "metadata": {
            "tags": []
          },
          "execution_count": 69
        }
      ]
    },
    {
      "cell_type": "code",
      "metadata": {
        "colab": {
          "base_uri": "https://localhost:8080/"
        },
        "id": "J1oHQgOcFvDy",
        "outputId": "98383abd-99b8-4c98-be25-c5917461abd5"
      },
      "source": [
        "# model_1\n",
        "# adding max pooling layer\n",
        "x_1 = tf.keras.layers.MaxPooling2D(pool_size=(2, 2)) (x_1)\n",
        "x_1.shape"
      ],
      "execution_count": 70,
      "outputs": [
        {
          "output_type": "execute_result",
          "data": {
            "text/plain": [
              "TensorShape([None, 8, 8, 64])"
            ]
          },
          "metadata": {
            "tags": []
          },
          "execution_count": 70
        }
      ]
    },
    {
      "cell_type": "code",
      "metadata": {
        "colab": {
          "base_uri": "https://localhost:8080/"
        },
        "id": "V_Yqf9EqWt5_",
        "outputId": "6cbd55e4-642b-44c4-a002-92751f76165a"
      },
      "source": [
        "# model_1 \n",
        "# adding convolution layer\n",
        "x_1 = tf.keras.layers.Conv2D(filters=128, kernel_size=(3, 3), activation='relu', padding='same') (x_1)\n",
        "x_1.shape"
      ],
      "execution_count": 71,
      "outputs": [
        {
          "output_type": "execute_result",
          "data": {
            "text/plain": [
              "TensorShape([None, 8, 8, 128])"
            ]
          },
          "metadata": {
            "tags": []
          },
          "execution_count": 71
        }
      ]
    },
    {
      "cell_type": "code",
      "metadata": {
        "colab": {
          "base_uri": "https://localhost:8080/"
        },
        "id": "zWfLkayrWuAU",
        "outputId": "f6b701bb-9ede-48da-ddfb-8d0c2a72abce"
      },
      "source": [
        "# model_1 \n",
        "# adding batch normalization layer\n",
        "x_1 = tf.keras.layers.BatchNormalization() (x_1)\n",
        "x_1.shape"
      ],
      "execution_count": 72,
      "outputs": [
        {
          "output_type": "execute_result",
          "data": {
            "text/plain": [
              "TensorShape([None, 8, 8, 128])"
            ]
          },
          "metadata": {
            "tags": []
          },
          "execution_count": 72
        }
      ]
    },
    {
      "cell_type": "code",
      "metadata": {
        "colab": {
          "base_uri": "https://localhost:8080/"
        },
        "id": "yfuJvhhQWuGJ",
        "outputId": "3546befa-0267-4676-c453-fa79f9b46ee4"
      },
      "source": [
        "# model_1\n",
        "# adding another convolution layer\n",
        "x_1 = tf.keras.layers.Conv2D(filters=128, kernel_size=(3, 3), activation='relu', padding='same') (x_1)\n",
        "x_1.shape"
      ],
      "execution_count": 73,
      "outputs": [
        {
          "output_type": "execute_result",
          "data": {
            "text/plain": [
              "TensorShape([None, 8, 8, 128])"
            ]
          },
          "metadata": {
            "tags": []
          },
          "execution_count": 73
        }
      ]
    },
    {
      "cell_type": "code",
      "metadata": {
        "colab": {
          "base_uri": "https://localhost:8080/"
        },
        "id": "Qa2h2pzbWuMq",
        "outputId": "7a00df2c-e46d-40bc-9298-c8c2960efb95"
      },
      "source": [
        "# model_1\n",
        "# adding batch normalization layer\n",
        "x_1 = tf.keras.layers.BatchNormalization() (x_1)\n",
        "x_1.shape"
      ],
      "execution_count": 74,
      "outputs": [
        {
          "output_type": "execute_result",
          "data": {
            "text/plain": [
              "TensorShape([None, 8, 8, 128])"
            ]
          },
          "metadata": {
            "tags": []
          },
          "execution_count": 74
        }
      ]
    },
    {
      "cell_type": "code",
      "metadata": {
        "colab": {
          "base_uri": "https://localhost:8080/"
        },
        "id": "zppvCf3iXr39",
        "outputId": "77528608-aacc-4f5e-ab31-c334cf6a8ff7"
      },
      "source": [
        "# model_1\n",
        "# adding max pooling layer to the network\n",
        "x_1 = tf.keras.layers.MaxPooling2D(pool_size=(2, 2)) (x_1)\n",
        "x_1.shape"
      ],
      "execution_count": 75,
      "outputs": [
        {
          "output_type": "execute_result",
          "data": {
            "text/plain": [
              "TensorShape([None, 4, 4, 128])"
            ]
          },
          "metadata": {
            "tags": []
          },
          "execution_count": 75
        }
      ]
    },
    {
      "cell_type": "code",
      "metadata": {
        "colab": {
          "base_uri": "https://localhost:8080/"
        },
        "id": "SGRaqhn3FvAH",
        "outputId": "49e66c3c-dc19-457d-de72-b060d5872c95"
      },
      "source": [
        "# model_1\n",
        "# flattening the output \n",
        "x_1 = tf.keras.layers.Flatten() (x_1)\n",
        "x_1.shape"
      ],
      "execution_count": 76,
      "outputs": [
        {
          "output_type": "execute_result",
          "data": {
            "text/plain": [
              "TensorShape([None, 2048])"
            ]
          },
          "metadata": {
            "tags": []
          },
          "execution_count": 76
        }
      ]
    },
    {
      "cell_type": "code",
      "metadata": {
        "colab": {
          "base_uri": "https://localhost:8080/"
        },
        "id": "9kNz3N5JFu59",
        "outputId": "d059df4e-b36a-4085-a844-e283ef8aab8f"
      },
      "source": [
        "# model_1\n",
        "# adding dropout layer\n",
        "x_1 = tf.keras.layers.Dropout(0.2) (x_1)\n",
        "x_1.shape"
      ],
      "execution_count": 77,
      "outputs": [
        {
          "output_type": "execute_result",
          "data": {
            "text/plain": [
              "TensorShape([None, 2048])"
            ]
          },
          "metadata": {
            "tags": []
          },
          "execution_count": 77
        }
      ]
    },
    {
      "cell_type": "code",
      "metadata": {
        "colab": {
          "base_uri": "https://localhost:8080/"
        },
        "id": "wyDJ4DR4Fum-",
        "outputId": "e64eea57-fb07-40e1-b401-929238f9a7b2"
      },
      "source": [
        "# model_1\n",
        "# adding dense layer\n",
        "x_1 = tf.keras.layers.Dense(units=1024, activation='relu') (x_1)\n",
        "x_1.shape"
      ],
      "execution_count": 78,
      "outputs": [
        {
          "output_type": "execute_result",
          "data": {
            "text/plain": [
              "TensorShape([None, 1024])"
            ]
          },
          "metadata": {
            "tags": []
          },
          "execution_count": 78
        }
      ]
    },
    {
      "cell_type": "code",
      "metadata": {
        "colab": {
          "base_uri": "https://localhost:8080/"
        },
        "id": "FSkLuHYUPmpX",
        "outputId": "8521701d-0a98-47fb-ccc7-48bf5eafa2fe"
      },
      "source": [
        "# model_1\n",
        "# adding dropout layer\n",
        "x_1 = tf.keras.layers.Dropout(0.3) (x_1)\n",
        "x_1.shape"
      ],
      "execution_count": 79,
      "outputs": [
        {
          "output_type": "execute_result",
          "data": {
            "text/plain": [
              "TensorShape([None, 1024])"
            ]
          },
          "metadata": {
            "tags": []
          },
          "execution_count": 79
        }
      ]
    },
    {
      "cell_type": "code",
      "metadata": {
        "colab": {
          "base_uri": "https://localhost:8080/"
        },
        "id": "0AJ6Qfd_QHmo",
        "outputId": "645eb7cf-6f6d-4529-e5e6-7cedbf50ad81"
      },
      "source": [
        "# model_1\n",
        "# adding last layer\n",
        "# total number of outputs will K\n",
        "x_1 = tf.keras.layers.Dense(K, activation='softmax') (x_1)\n",
        "x_1.shape"
      ],
      "execution_count": 80,
      "outputs": [
        {
          "output_type": "execute_result",
          "data": {
            "text/plain": [
              "TensorShape([None, 10])"
            ]
          },
          "metadata": {
            "tags": []
          },
          "execution_count": 80
        }
      ]
    },
    {
      "cell_type": "code",
      "metadata": {
        "id": "kNs2Q6lqQU9N"
      },
      "source": [
        "# creating model\n",
        "model_1 = tf.keras.Model(i_1, x_1)"
      ],
      "execution_count": 81,
      "outputs": []
    },
    {
      "cell_type": "code",
      "metadata": {
        "id": "68ZrN3pPQW29"
      },
      "source": [
        "# compiling model\n",
        "model_1.compile(optimizer='adam',\n",
        "              loss='sparse_categorical_crossentropy',\n",
        "              metrics=['accuracy']\n",
        "              )"
      ],
      "execution_count": 82,
      "outputs": []
    },
    {
      "cell_type": "code",
      "metadata": {
        "colab": {
          "base_uri": "https://localhost:8080/"
        },
        "id": "ySwbXPjRRLjB",
        "outputId": "b91336e1-59ed-4cef-e574-426607c2d011"
      },
      "source": [
        "# fit model\n",
        "history_1 = model_1.fit(x_tr, y_tr, validation_data=(x_te, y_te), epochs=10)"
      ],
      "execution_count": 83,
      "outputs": [
        {
          "output_type": "stream",
          "text": [
            "Epoch 1/10\n",
            "1563/1563 [==============================] - 384s 245ms/step - loss: 1.7476 - accuracy: 0.4579 - val_loss: 1.2271 - val_accuracy: 0.5773\n",
            "Epoch 2/10\n",
            "1563/1563 [==============================] - 378s 242ms/step - loss: 0.9122 - accuracy: 0.6824 - val_loss: 0.8266 - val_accuracy: 0.7192\n",
            "Epoch 3/10\n",
            "1563/1563 [==============================] - 378s 242ms/step - loss: 0.7209 - accuracy: 0.7489 - val_loss: 0.7888 - val_accuracy: 0.7328\n",
            "Epoch 4/10\n",
            "1563/1563 [==============================] - 382s 244ms/step - loss: 0.6011 - accuracy: 0.7927 - val_loss: 0.6847 - val_accuracy: 0.7674\n",
            "Epoch 5/10\n",
            "1563/1563 [==============================] - 382s 244ms/step - loss: 0.5088 - accuracy: 0.8220 - val_loss: 0.6708 - val_accuracy: 0.7834\n",
            "Epoch 6/10\n",
            "1563/1563 [==============================] - 381s 244ms/step - loss: 0.4237 - accuracy: 0.8531 - val_loss: 0.6389 - val_accuracy: 0.7971\n",
            "Epoch 7/10\n",
            "1563/1563 [==============================] - 380s 243ms/step - loss: 0.3667 - accuracy: 0.8751 - val_loss: 0.6119 - val_accuracy: 0.7977\n",
            "Epoch 8/10\n",
            "1563/1563 [==============================] - 380s 243ms/step - loss: 0.3130 - accuracy: 0.8926 - val_loss: 0.6868 - val_accuracy: 0.7860\n",
            "Epoch 9/10\n",
            "1563/1563 [==============================] - 376s 240ms/step - loss: 0.2740 - accuracy: 0.9052 - val_loss: 0.7252 - val_accuracy: 0.7907\n",
            "Epoch 10/10\n",
            "1563/1563 [==============================] - 376s 241ms/step - loss: 0.2323 - accuracy: 0.9200 - val_loss: 0.5846 - val_accuracy: 0.8249\n"
          ],
          "name": "stdout"
        }
      ]
    },
    {
      "cell_type": "code",
      "metadata": {
        "id": "08WqxxY6SYUr",
        "colab": {
          "base_uri": "https://localhost:8080/",
          "height": 180
        },
        "outputId": "1dd09828-c54f-4678-f5cb-48bc7d680ef4"
      },
      "source": [
        "del i_1\n",
        "del x_1"
      ],
      "execution_count": 61,
      "outputs": [
        {
          "output_type": "error",
          "ename": "NameError",
          "evalue": "ignored",
          "traceback": [
            "\u001b[0;31m---------------------------------------------------------------------------\u001b[0m",
            "\u001b[0;31mNameError\u001b[0m                                 Traceback (most recent call last)",
            "\u001b[0;32m<ipython-input-61-abaeb20db3c1>\u001b[0m in \u001b[0;36m<module>\u001b[0;34m()\u001b[0m\n\u001b[0;32m----> 1\u001b[0;31m \u001b[0;32mdel\u001b[0m \u001b[0mi_1\u001b[0m\u001b[0;34m\u001b[0m\u001b[0;34m\u001b[0m\u001b[0m\n\u001b[0m\u001b[1;32m      2\u001b[0m \u001b[0;32mdel\u001b[0m \u001b[0mx_1\u001b[0m\u001b[0;34m\u001b[0m\u001b[0;34m\u001b[0m\u001b[0m\n",
            "\u001b[0;31mNameError\u001b[0m: name 'i_1' is not defined"
          ]
        }
      ]
    },
    {
      "cell_type": "code",
      "metadata": {
        "id": "flYbZK1ZYJ5f",
        "colab": {
          "base_uri": "https://localhost:8080/",
          "height": 163
        },
        "outputId": "28d3c18e-e77a-4c79-cf5f-c6768748b3e2"
      },
      "source": [
        "epochs_per_batch"
      ],
      "execution_count": 57,
      "outputs": [
        {
          "output_type": "error",
          "ename": "NameError",
          "evalue": "ignored",
          "traceback": [
            "\u001b[0;31m---------------------------------------------------------------------------\u001b[0m",
            "\u001b[0;31mNameError\u001b[0m                                 Traceback (most recent call last)",
            "\u001b[0;32m<ipython-input-57-8a6130ae5b4d>\u001b[0m in \u001b[0;36m<module>\u001b[0;34m()\u001b[0m\n\u001b[0;32m----> 1\u001b[0;31m \u001b[0mepochs_per_batch\u001b[0m\u001b[0;34m\u001b[0m\u001b[0;34m\u001b[0m\u001b[0m\n\u001b[0m",
            "\u001b[0;31mNameError\u001b[0m: name 'epochs_per_batch' is not defined"
          ]
        }
      ]
    },
    {
      "cell_type": "code",
      "metadata": {
        "id": "MDYj5TWhhKCS"
      },
      "source": [
        ""
      ],
      "execution_count": null,
      "outputs": []
    }
  ]
}